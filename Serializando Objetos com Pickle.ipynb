{
 "cells": [
  {
   "cell_type": "code",
   "execution_count": 20,
   "id": "c5e0b277",
   "metadata": {},
   "outputs": [],
   "source": [
    "import pickle"
   ]
  },
  {
   "cell_type": "markdown",
   "id": "79c337f8",
   "metadata": {},
   "source": [
    "## Definindo a Lista"
   ]
  },
  {
   "cell_type": "code",
   "execution_count": 21,
   "id": "cf16670f",
   "metadata": {},
   "outputs": [],
   "source": [
    "l1 = [1, 'abc', 1.5, [10, 20, 30], {'nome': 'joão', 'idade': 30}]"
   ]
  },
  {
   "cell_type": "markdown",
   "id": "b01d8334",
   "metadata": {},
   "source": [
    "## Serialização"
   ]
  },
  {
   "cell_type": "code",
   "execution_count": 26,
   "id": "ec5b461a",
   "metadata": {},
   "outputs": [
    {
     "name": "stdout",
     "output_type": "stream",
     "text": [
      "b'\\x80\\x04\\x95=\\x00\\x00\\x00\\x00\\x00\\x00\\x00]\\x94(K\\x01\\x8c\\x03abc\\x94G?\\xf8\\x00\\x00\\x00\\x00\\x00\\x00]\\x94(K\\nK\\x14K\\x1ee}\\x94(\\x8c\\x04nome\\x94\\x8c\\x05jo\\xc3\\xa3o\\x94\\x8c\\x05idade\\x94K\\x1eue.'\n"
     ]
    }
   ],
   "source": [
    "lista_s = pickle.dumps(l1)\n",
    "\n",
    "print(lista_s)"
   ]
  },
  {
   "cell_type": "markdown",
   "id": "f672eae2",
   "metadata": {},
   "source": [
    "## Desserialização"
   ]
  },
  {
   "cell_type": "code",
   "execution_count": 27,
   "id": "dce5c472",
   "metadata": {},
   "outputs": [
    {
     "name": "stdout",
     "output_type": "stream",
     "text": [
      "[1, 'abc', 1.5, [10, 20, 30], {'nome': 'joão', 'idade': 30}]\n"
     ]
    }
   ],
   "source": [
    "lista_d = pickle.loads(lista_s)\n",
    "\n",
    "print(lista_d)"
   ]
  },
  {
   "cell_type": "code",
   "execution_count": null,
   "id": "9c2c3d60",
   "metadata": {},
   "outputs": [],
   "source": []
  }
 ],
 "metadata": {
  "kernelspec": {
   "display_name": "Python 3",
   "language": "python",
   "name": "python3"
  },
  "language_info": {
   "codemirror_mode": {
    "name": "ipython",
    "version": 3
   },
   "file_extension": ".py",
   "mimetype": "text/x-python",
   "name": "python",
   "nbconvert_exporter": "python",
   "pygments_lexer": "ipython3",
   "version": "3.8.5"
  }
 },
 "nbformat": 4,
 "nbformat_minor": 5
}
