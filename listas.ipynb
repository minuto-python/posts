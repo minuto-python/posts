{
 "cells": [
  {
   "cell_type": "code",
   "execution_count": 1,
   "id": "former-maintenance",
   "metadata": {},
   "outputs": [],
   "source": [
    "lst = [1, 2, 'a', 'b', 0.5, 2.5]"
   ]
  },
  {
   "cell_type": "code",
   "execution_count": 7,
   "id": "fallen-tooth",
   "metadata": {},
   "outputs": [
    {
     "name": "stdout",
     "output_type": "stream",
     "text": [
      "indice 0: -> 1.5\n",
      "indice 1: -> x\n",
      "indice 2: -> 4.8\n"
     ]
    }
   ],
   "source": [
    "lst1 = [1.5, 'x', 4.8]\n",
    "\n",
    "print('indice 0: ->', lst[0])\n",
    "print('indice 1: ->', lst[1])\n",
    "print('indice 2: ->', lst[2])"
   ]
  },
  {
   "cell_type": "code",
   "execution_count": 10,
   "id": "rolled-reconstruction",
   "metadata": {},
   "outputs": [
    {
     "name": "stdout",
     "output_type": "stream",
     "text": [
      "Lista antiga: ['Maçã', 'Banana', 'Laranja']\n",
      "Lista atualizada: ['Maçã', 'Banana', 'Laranja', 'Pera']\n"
     ]
    }
   ],
   "source": [
    "frutas = ['Maçã', 'Banana', 'Laranja']\n",
    "print('Lista antiga:', frutas)\n",
    "\n",
    "frutas.append('Pera')\n",
    "print('Lista atualizada:', frutas)"
   ]
  },
  {
   "cell_type": "code",
   "execution_count": null,
   "id": "needed-optimum",
   "metadata": {},
   "outputs": [],
   "source": []
  }
 ],
 "metadata": {
  "kernelspec": {
   "display_name": "Python 3",
   "language": "python",
   "name": "python3"
  },
  "language_info": {
   "codemirror_mode": {
    "name": "ipython",
    "version": 3
   },
   "file_extension": ".py",
   "mimetype": "text/x-python",
   "name": "python",
   "nbconvert_exporter": "python",
   "pygments_lexer": "ipython3",
   "version": "3.8.5"
  }
 },
 "nbformat": 4,
 "nbformat_minor": 5
}
