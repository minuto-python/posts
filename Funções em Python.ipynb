{
 "cells": [
  {
   "cell_type": "markdown",
   "id": "stunning-architecture",
   "metadata": {},
   "source": [
    "#### Função sem retorno\n",
    "```python\n",
    "def nome_da_funcao(parametros):\n",
    "    # bloco de codigo\n",
    "```\n",
    "\n",
    "#### Função com retorno\n",
    "```python\n",
    "def nome_da_funcao(parametros):\n",
    "    # bloco de codigo\n",
    "    return valor\n",
    "```"
   ]
  },
  {
   "cell_type": "markdown",
   "id": "abandoned-competition",
   "metadata": {},
   "source": [
    "## Função sem retorno"
   ]
  },
  {
   "cell_type": "code",
   "execution_count": 1,
   "id": "scientific-domain",
   "metadata": {},
   "outputs": [
    {
     "name": "stdout",
     "output_type": "stream",
     "text": [
      "Olá Ana. Seu nome possui 3 letras.\n"
     ]
    }
   ],
   "source": [
    "# Definindo a funcao\n",
    "def msg(nome):\n",
    "    ln = len(nome)\n",
    "    print(f'Olá {nome}. Seu nome possui {ln} letras.')\n",
    "\n",
    "# Chamando a funcao\n",
    "msg('Ana')"
   ]
  },
  {
   "cell_type": "markdown",
   "id": "limiting-snapshot",
   "metadata": {},
   "source": [
    "## Função com retorno"
   ]
  },
  {
   "cell_type": "code",
   "execution_count": 4,
   "id": "aware-pledge",
   "metadata": {},
   "outputs": [
    {
     "name": "stdout",
     "output_type": "stream",
     "text": [
      "Quem nasceu em 1995 tem 26 anos de idade.\n"
     ]
    }
   ],
   "source": [
    "from datetime import datetime\n",
    "\n",
    "# Definindo uma funcao que retorna valor\n",
    "def calc_idade(ano_nasc):\n",
    "    ano_atual = datetime.now().year\n",
    "    idade = ano_atual - ano_nasc\n",
    "    return idade\n",
    "\n",
    "ano = 1995\n",
    "idade = calc_idade(ano) # Chamando a funcao e retornando o valor da idade\n",
    "print(f'Quem nasceu em {ano} tem {idade} anos de idade.')"
   ]
  },
  {
   "cell_type": "code",
   "execution_count": null,
   "id": "legitimate-charger",
   "metadata": {},
   "outputs": [],
   "source": []
  }
 ],
 "metadata": {
  "kernelspec": {
   "display_name": "Python 3",
   "language": "python",
   "name": "python3"
  },
  "language_info": {
   "codemirror_mode": {
    "name": "ipython",
    "version": 3
   },
   "file_extension": ".py",
   "mimetype": "text/x-python",
   "name": "python",
   "nbconvert_exporter": "python",
   "pygments_lexer": "ipython3",
   "version": "3.9.5"
  }
 },
 "nbformat": 4,
 "nbformat_minor": 5
}
