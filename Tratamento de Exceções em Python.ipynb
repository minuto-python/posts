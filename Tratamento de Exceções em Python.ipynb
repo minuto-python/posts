{
 "cells": [
  {
   "cell_type": "markdown",
   "id": "several-updating",
   "metadata": {},
   "source": [
    "```python\n",
    "try:\n",
    "    # Trecho de codigo que pode causar um erro.\n",
    "except TipoDaException:\n",
    "    # Erro ocorrido.\n",
    "    # Trecho de codigo para tratar o erro.\n",
    "else:\n",
    "    # Trecho executado caso nao ocorra erro.\n",
    "finally:\n",
    "    # Este trecho sempre sera executado, caso\n",
    "    # o erro ocorra ou nao.\n",
    "\n",
    "# Observacao: O \"else\" e \"finally\" sao opcionais.\n",
    "```\n"
   ]
  },
  {
   "cell_type": "markdown",
   "id": "funky-pollution",
   "metadata": {},
   "source": [
    "### Erro"
   ]
  },
  {
   "cell_type": "code",
   "execution_count": 17,
   "id": "auburn-retention",
   "metadata": {},
   "outputs": [
    {
     "ename": "ZeroDivisionError",
     "evalue": "division by zero",
     "output_type": "error",
     "traceback": [
      "\u001b[0;31m---------------------------------------------------------------------------\u001b[0m",
      "\u001b[0;31mZeroDivisionError\u001b[0m                         Traceback (most recent call last)",
      "\u001b[0;32m<ipython-input-17-adafc2937013>\u001b[0m in \u001b[0;36m<module>\u001b[0;34m\u001b[0m\n\u001b[0;32m----> 1\u001b[0;31m \u001b[0;36m5\u001b[0m \u001b[0;34m/\u001b[0m \u001b[0;36m0\u001b[0m\u001b[0;34m\u001b[0m\u001b[0;34m\u001b[0m\u001b[0m\n\u001b[0m",
      "\u001b[0;31mZeroDivisionError\u001b[0m: division by zero"
     ]
    }
   ],
   "source": [
    "5 / 0"
   ]
  },
  {
   "cell_type": "markdown",
   "id": "accredited-burlington",
   "metadata": {},
   "source": [
    "### Caso com Erro: Tratando a Exceção"
   ]
  },
  {
   "cell_type": "code",
   "execution_count": 19,
   "id": "annual-aging",
   "metadata": {},
   "outputs": [
    {
     "name": "stdout",
     "output_type": "stream",
     "text": [
      "Bloco except: O valor de \"X\" não pode ser dividido por 0.\n",
      "Bloco finally: Passando pelo bloco \"finally\".\n"
     ]
    }
   ],
   "source": [
    "x = 5\n",
    "\n",
    "try:\n",
    "    x / 0\n",
    "except ZeroDivisionError:\n",
    "    print('Bloco except: O valor de \"X\" não pode ser dividido por 0.')\n",
    "finally:\n",
    "    print('Bloco finally: Passando pelo bloco \"finally\".')"
   ]
  },
  {
   "cell_type": "markdown",
   "id": "visible-paint",
   "metadata": {},
   "source": [
    "### Caso sem Erro"
   ]
  },
  {
   "cell_type": "code",
   "execution_count": 14,
   "id": "devoted-telephone",
   "metadata": {},
   "outputs": [
    {
     "name": "stdout",
     "output_type": "stream",
     "text": [
      "Bloco else: \"X\" foi dividio por um valor válido.\n",
      "Bloco finally: Passando pelo bloco \"finally\".\n"
     ]
    }
   ],
   "source": [
    "x = 5\n",
    "\n",
    "try:\n",
    "    x / x\n",
    "except ZeroDivisionError:\n",
    "    print('Bloco except: O valor de \"X\" não pode ser dividido por 0.')\n",
    "else:\n",
    "    print('Bloco else: \"X\" foi dividio por um valor válido.')\n",
    "finally:\n",
    "    print('Bloco finally: Passando pelo bloco \"finally\".')"
   ]
  },
  {
   "cell_type": "code",
   "execution_count": null,
   "id": "sticky-azerbaijan",
   "metadata": {},
   "outputs": [],
   "source": []
  }
 ],
 "metadata": {
  "kernelspec": {
   "display_name": "Python 3",
   "language": "python",
   "name": "python3"
  },
  "language_info": {
   "codemirror_mode": {
    "name": "ipython",
    "version": 3
   },
   "file_extension": ".py",
   "mimetype": "text/x-python",
   "name": "python",
   "nbconvert_exporter": "python",
   "pygments_lexer": "ipython3",
   "version": "3.9.5"
  }
 },
 "nbformat": 4,
 "nbformat_minor": 5
}
