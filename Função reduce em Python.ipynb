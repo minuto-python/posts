{
 "cells": [
  {
   "cell_type": "markdown",
   "id": "723f37a8",
   "metadata": {},
   "source": [
    "```python\n",
    "\n",
    "# Função para redução da sequência\n",
    "def func(x, y):\n",
    "    return x + y\n",
    "\n",
    "# Na primeira execução:\n",
    "# > x = 1º item\n",
    "# > y = 2º item\n",
    "\n",
    "# Na segunda execução:\n",
    "# > x = resultado da execução anterior\n",
    "# > y = 3º item\n",
    "\n",
    "# Na terceira execução em diante...:\n",
    "# > x = resultado da execução anterior\n",
    "# > y = 4º item\n",
    "\n",
    "# A cada execução o \"y\" recebe o próximo valor da sequência.\n",
    "```"
   ]
  },
  {
   "cell_type": "code",
   "execution_count": 7,
   "id": "a82011ad",
   "metadata": {},
   "outputs": [
    {
     "name": "stdout",
     "output_type": "stream",
     "text": [
      "Execução 1:\n",
      "x = 1\n",
      "y = 2\n",
      "\n",
      "Execução 2:\n",
      "x = 3\n",
      "y = 3\n",
      "\n",
      "Execução 3:\n",
      "x = 6\n",
      "y = 4\n",
      "\n",
      "Resultado: 10\n"
     ]
    }
   ],
   "source": [
    "from functools import reduce\n",
    "\n",
    "lst = [1, 2, 3, 4]\n",
    "\n",
    "# Função de redução\n",
    "def func(x, y):\n",
    "    print(f\"Execução {y - 1}:\")\n",
    "    print(f\"x = {x}\")\n",
    "    print(f\"y = {y}\\n\")\n",
    "    return x + y\n",
    "\n",
    "\n",
    "# Chamando a função reduce\n",
    "result = reduce(func, lst)\n",
    "\n",
    "print(f'Resultado: {result}')"
   ]
  },
  {
   "cell_type": "code",
   "execution_count": 6,
   "id": "21678bad",
   "metadata": {},
   "outputs": [
    {
     "data": {
      "text/plain": [
       "10"
      ]
     },
     "execution_count": 6,
     "metadata": {},
     "output_type": "execute_result"
    }
   ],
   "source": [
    "from functools import reduce\n",
    "\n",
    "lst = [1, 2, 3, 4]\n",
    "\n",
    "\n",
    "def func(x, y):\n",
    "    return x + y\n",
    "\n",
    "\n",
    "reduce(func, lst)"
   ]
  },
  {
   "cell_type": "code",
   "execution_count": null,
   "id": "263380ad",
   "metadata": {},
   "outputs": [],
   "source": []
  }
 ],
 "metadata": {
  "kernelspec": {
   "display_name": "Python 3 (ipykernel)",
   "language": "python",
   "name": "python3"
  },
  "language_info": {
   "codemirror_mode": {
    "name": "ipython",
    "version": 3
   },
   "file_extension": ".py",
   "mimetype": "text/x-python",
   "name": "python",
   "nbconvert_exporter": "python",
   "pygments_lexer": "ipython3",
   "version": "3.8.10"
  }
 },
 "nbformat": 4,
 "nbformat_minor": 5
}
