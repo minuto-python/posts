{
 "cells": [
  {
   "cell_type": "code",
   "execution_count": 2,
   "id": "ignored-trauma",
   "metadata": {},
   "outputs": [],
   "source": [
    "import pandas as pd\n",
    "from sklearn.linear_model import LinearRegression\n",
    "from sklearn.model_selection import train_test_split\n",
    "from sklearn.metrics import r2_score"
   ]
  },
  {
   "cell_type": "code",
   "execution_count": 3,
   "id": "fabulous-reflection",
   "metadata": {},
   "outputs": [],
   "source": [
    "df = pd.read_csv('https://raw.githubusercontent.com/minuto-python/data/master/house-prices/data.csv')"
   ]
  },
  {
   "cell_type": "code",
   "execution_count": 4,
   "id": "valued-theater",
   "metadata": {},
   "outputs": [],
   "source": [
    "# Separando dados que serão utilizados no modelo\n",
    "y = df['price']\n",
    "x_cols = ['bedrooms','bathrooms','sqft_living','sqft_lot', 'sqft_above', 'sqft_basement']\n",
    "X = df[x_cols]"
   ]
  },
  {
   "cell_type": "code",
   "execution_count": 18,
   "id": "automatic-preparation",
   "metadata": {},
   "outputs": [],
   "source": [
    "# Separando dados em treino e teste\n",
    "X_train, X_test, y_train, y_test = train_test_split(X, y, test_size=.1, random_state=42)"
   ]
  },
  {
   "cell_type": "code",
   "execution_count": 6,
   "id": "acoustic-universal",
   "metadata": {},
   "outputs": [
    {
     "data": {
      "text/plain": [
       "LinearRegression()"
      ]
     },
     "execution_count": 6,
     "metadata": {},
     "output_type": "execute_result"
    }
   ],
   "source": [
    "# Instanciando e treinando o modelo\n",
    "lr = LinearRegression()\n",
    "lr.fit(X_train, y_train)"
   ]
  },
  {
   "cell_type": "code",
   "execution_count": 17,
   "id": "increasing-withdrawal",
   "metadata": {},
   "outputs": [
    {
     "name": "stdout",
     "output_type": "stream",
     "text": [
      "Previsões do modelo: [400323.63491813 438238.71517428 825619.19657624]\n"
     ]
    }
   ],
   "source": [
    "# Fazendo previsões\n",
    "pred = lr.predict(X_test)\n",
    "print('Previsões do modelo:', pred[0:3])"
   ]
  },
  {
   "cell_type": "code",
   "execution_count": 16,
   "id": "subjective-popularity",
   "metadata": {},
   "outputs": [],
   "source": [
    "# Calculando o R2 do Modelo\n",
    "score = r2_score(y_test, pred)"
   ]
  },
  {
   "cell_type": "code",
   "execution_count": 15,
   "id": "informational-atlantic",
   "metadata": {},
   "outputs": [
    {
     "name": "stdout",
     "output_type": "stream",
     "text": [
      "\"Precisão\" do Modelo: 47.73%.\n"
     ]
    }
   ],
   "source": [
    "print(f'\"Precisão\" do Modelo: {round(score * 100, 2)}%.')"
   ]
  }
 ],
 "metadata": {
  "kernelspec": {
   "display_name": "Python 3",
   "language": "python",
   "name": "python3"
  },
  "language_info": {
   "codemirror_mode": {
    "name": "ipython",
    "version": 3
   },
   "file_extension": ".py",
   "mimetype": "text/x-python",
   "name": "python",
   "nbconvert_exporter": "python",
   "pygments_lexer": "ipython3",
   "version": "3.8.5"
  }
 },
 "nbformat": 4,
 "nbformat_minor": 5
}
