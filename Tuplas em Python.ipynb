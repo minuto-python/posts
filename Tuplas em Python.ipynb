{
 "cells": [
  {
   "cell_type": "code",
   "execution_count": 6,
   "id": "other-prague",
   "metadata": {},
   "outputs": [],
   "source": [
    "tpl = ('a', 'b', 0.8, 0.5, 1, 2)"
   ]
  },
  {
   "cell_type": "code",
   "execution_count": 16,
   "id": "domestic-cisco",
   "metadata": {},
   "outputs": [
    {
     "name": "stdout",
     "output_type": "stream",
     "text": [
      "indice 0: -> 1\n",
      "indice 1: -> x\n",
      "indice 2: -> 3\n"
     ]
    }
   ],
   "source": [
    "tpl1 = (1, 'x', 3)\n",
    "\n",
    "print('indice 0: ->', tpl1[0])\n",
    "print('indice 1: ->', tpl1[1])\n",
    "print('indice 2: ->', tpl1[2])"
   ]
  },
  {
   "cell_type": "code",
   "execution_count": 15,
   "id": "opponent-hopkins",
   "metadata": {},
   "outputs": [
    {
     "name": "stdout",
     "output_type": "stream",
     "text": [
      "Tamanho da Lista: 64 bytes\n",
      "Tamanho da Tupla: 48 bytes\n"
     ]
    }
   ],
   "source": [
    "lst = [1, 2, 3]\n",
    "tpl = (1, 2, 3)\n",
    "print('Tamanho da Lista:', lst.__sizeof__(), 'bytes')\n",
    "print('Tamanho da Tupla:', tpl.__sizeof__(), 'bytes')"
   ]
  },
  {
   "cell_type": "code",
   "execution_count": null,
   "id": "arabic-listing",
   "metadata": {},
   "outputs": [],
   "source": []
  }
 ],
 "metadata": {
  "kernelspec": {
   "display_name": "Python 3",
   "language": "python",
   "name": "python3"
  },
  "language_info": {
   "codemirror_mode": {
    "name": "ipython",
    "version": 3
   },
   "file_extension": ".py",
   "mimetype": "text/x-python",
   "name": "python",
   "nbconvert_exporter": "python",
   "pygments_lexer": "ipython3",
   "version": "3.8.5"
  }
 },
 "nbformat": 4,
 "nbformat_minor": 5
}
