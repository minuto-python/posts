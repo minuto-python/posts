{
 "cells": [
  {
   "cell_type": "markdown",
   "id": "1e41096a",
   "metadata": {},
   "source": [
    "### Requisitando a API"
   ]
  },
  {
   "cell_type": "code",
   "execution_count": 31,
   "id": "732a080b",
   "metadata": {},
   "outputs": [
    {
     "name": "stdout",
     "output_type": "stream",
     "text": [
      "<Response [200]>\n"
     ]
    }
   ],
   "source": [
    "import requests\n",
    "\n",
    "# Enviando uma requisição GET e obtendo a resposta\n",
    "response = requests.get(\n",
    "    'https://www.thecocktaildb.com/api/json/v1/1/search.php?s=margarita'\n",
    ")\n",
    "\n",
    "print(response)"
   ]
  },
  {
   "cell_type": "markdown",
   "id": "f7728550",
   "metadata": {},
   "source": [
    "### Tratando a Resposta"
   ]
  },
  {
   "cell_type": "code",
   "execution_count": 33,
   "id": "a40b847a",
   "metadata": {},
   "outputs": [
    {
     "name": "stdout",
     "output_type": "stream",
     "text": [
      "Margarita\n",
      "Blue Margarita\n",
      "Tommy's Margarita\n",
      "Whitecap Margarita\n",
      "Strawberry Margarita\n",
      "Smashed Watermelon Margarita\n"
     ]
    }
   ],
   "source": [
    "drinks = response.json()['drinks'] # Extraindo a lista de drinks\n",
    "\n",
    "# Percorrendo sobre os drinks\n",
    "for drink in drinks:\n",
    "    print(drink['strDrink'])"
   ]
  },
  {
   "cell_type": "code",
   "execution_count": null,
   "id": "0f1da9a0",
   "metadata": {},
   "outputs": [],
   "source": []
  }
 ],
 "metadata": {
  "kernelspec": {
   "display_name": "Python 3",
   "language": "python",
   "name": "python3"
  },
  "language_info": {
   "codemirror_mode": {
    "name": "ipython",
    "version": 3
   },
   "file_extension": ".py",
   "mimetype": "text/x-python",
   "name": "python",
   "nbconvert_exporter": "python",
   "pygments_lexer": "ipython3",
   "version": "3.8.5"
  }
 },
 "nbformat": 4,
 "nbformat_minor": 5
}
