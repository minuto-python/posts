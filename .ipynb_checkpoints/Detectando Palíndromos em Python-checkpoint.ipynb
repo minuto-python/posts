{
 "cells": [
  {
   "cell_type": "code",
   "execution_count": 18,
   "id": "ecdb1856",
   "metadata": {},
   "outputs": [
    {
     "name": "stdout",
     "output_type": "stream",
     "text": [
      "Digite uma palavra: arara\n",
      "A palavra: \"arara\" de trás pra frente é \"arara\".\n",
      "\n",
      ">>> É um palíndromo\n"
     ]
    }
   ],
   "source": [
    "palavra = input('Digite uma palavra: ')\n",
    "palavra_invertida = ''.join(list(reversed(palavra))) # Invertendo a palavra\n",
    "\n",
    "palavra = palavra.lower() # Transformando os caracteres em minusculo\n",
    "palavra_invertida = palavra_invertida.lower() # Transformando os caracteres em minusculo\n",
    "\n",
    "print(f'A palavra: \"{palavra}\" de trás pra frente é \"{palavra_invertida}\".\\n')\n",
    "\n",
    "if palavra == palavra_invertida:\n",
    "    print('>>> É um palíndromo')\n",
    "else:\n",
    "    print('>>> Não é um palíndromo')"
   ]
  }
 ],
 "metadata": {
  "kernelspec": {
   "display_name": "Python 3",
   "language": "python",
   "name": "python3"
  },
  "language_info": {
   "codemirror_mode": {
    "name": "ipython",
    "version": 3
   },
   "file_extension": ".py",
   "mimetype": "text/x-python",
   "name": "python",
   "nbconvert_exporter": "python",
   "pygments_lexer": "ipython3",
   "version": "3.8.10"
  }
 },
 "nbformat": 4,
 "nbformat_minor": 5
}
