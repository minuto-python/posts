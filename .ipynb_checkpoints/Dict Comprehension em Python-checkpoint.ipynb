{
 "cells": [
  {
   "cell_type": "markdown",
   "id": "77f92416",
   "metadata": {},
   "source": [
    "#### Sintaxe\n",
    "```python\n",
    "{chave: valor for elemento in iteravel}\n",
    "```"
   ]
  },
  {
   "cell_type": "markdown",
   "id": "34af51fd",
   "metadata": {},
   "source": [
    "## Sem Dict Comprehension"
   ]
  },
  {
   "cell_type": "code",
   "execution_count": 18,
   "id": "f68e9b6d",
   "metadata": {},
   "outputs": [
    {
     "name": "stdout",
     "output_type": "stream",
     "text": [
      "{'chave_1': 1, 'chave_2': 4, 'chave_3': 9, 'chave_4': 16}\n"
     ]
    }
   ],
   "source": [
    "dct = {}\n",
    "\n",
    "for i in range(1, 5):\n",
    "    dct[f'chave_{i}'] = i ** 2\n",
    "\n",
    "print(dct)"
   ]
  },
  {
   "cell_type": "markdown",
   "id": "4e58e57f",
   "metadata": {},
   "source": [
    "## Com Dict Comprehension"
   ]
  },
  {
   "cell_type": "code",
   "execution_count": 19,
   "id": "f5137a69",
   "metadata": {},
   "outputs": [
    {
     "name": "stdout",
     "output_type": "stream",
     "text": [
      "{'chave_1': 1, 'chave_2': 4, 'chave_3': 9, 'chave_4': 16}\n"
     ]
    }
   ],
   "source": [
    "dct = {f'chave_{i}': i ** 2 for i in range(1, 5)}\n",
    "\n",
    "print(dct)"
   ]
  },
  {
   "cell_type": "markdown",
   "id": "cddd3138",
   "metadata": {},
   "source": [
    "## Sem Dict Comprehension e com condicionais"
   ]
  },
  {
   "cell_type": "code",
   "execution_count": 20,
   "id": "f675d9ae",
   "metadata": {},
   "outputs": [
    {
     "name": "stdout",
     "output_type": "stream",
     "text": [
      "{'chave_1': 'X', 'chave_2': 2, 'chave_3': 'X', 'chave_4': 4}\n"
     ]
    }
   ],
   "source": [
    "# Marcando com \"X\" os valores impares\n",
    "\n",
    "dct = {}\n",
    "\n",
    "for i in range(1, 5):\n",
    "    if i % 2 == 0:\n",
    "        dct[f'chave_{i}'] = i\n",
    "    else:\n",
    "        dct[f'chave_{i}'] = 'X'\n",
    "        \n",
    "print(dct)"
   ]
  },
  {
   "cell_type": "markdown",
   "id": "3fdb426e",
   "metadata": {},
   "source": [
    "## Com Dict Comprehension e com condicionais"
   ]
  },
  {
   "cell_type": "code",
   "execution_count": 21,
   "id": "386e86bd",
   "metadata": {},
   "outputs": [
    {
     "name": "stdout",
     "output_type": "stream",
     "text": [
      "{'chave_1': 'X', 'chave_2': 2, 'chave_3': 'X', 'chave_4': 4}\n"
     ]
    }
   ],
   "source": [
    "# Marcando com \"X\" os valores impares\n",
    "\n",
    "dct = {f'chave_{i}': i if i % 2 == 0 else 'X' for i in range(1, 5)}\n",
    "\n",
    "print(dct)"
   ]
  },
  {
   "cell_type": "code",
   "execution_count": null,
   "id": "2d4c85be",
   "metadata": {},
   "outputs": [],
   "source": []
  }
 ],
 "metadata": {
  "kernelspec": {
   "display_name": "Python 3",
   "language": "python",
   "name": "python3"
  },
  "language_info": {
   "codemirror_mode": {
    "name": "ipython",
    "version": 3
   },
   "file_extension": ".py",
   "mimetype": "text/x-python",
   "name": "python",
   "nbconvert_exporter": "python",
   "pygments_lexer": "ipython3",
   "version": "3.8.10"
  }
 },
 "nbformat": 4,
 "nbformat_minor": 5
}
