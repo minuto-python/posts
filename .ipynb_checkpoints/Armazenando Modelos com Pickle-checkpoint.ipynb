{
 "cells": [
  {
   "cell_type": "code",
   "execution_count": 34,
   "id": "5a51f8ce",
   "metadata": {},
   "outputs": [],
   "source": [
    "#pip install scikit-learn pandas numpy"
   ]
  },
  {
   "cell_type": "markdown",
   "id": "9175903c",
   "metadata": {},
   "source": [
    "## Importando as bibliotecas"
   ]
  },
  {
   "cell_type": "code",
   "execution_count": 18,
   "id": "2659d1d8",
   "metadata": {},
   "outputs": [],
   "source": [
    "import pickle\n",
    "import pandas as pd\n",
    "import numpy as np\n",
    "from sklearn.ensemble import RandomForestRegressor"
   ]
  },
  {
   "cell_type": "markdown",
   "id": "3048dbdc",
   "metadata": {},
   "source": [
    "## Preparando os Dados e Treinando o Modelo"
   ]
  },
  {
   "cell_type": "markdown",
   "id": "2a46aa3f",
   "metadata": {},
   "source": [
    "- Preparando X e y"
   ]
  },
  {
   "cell_type": "code",
   "execution_count": 15,
   "id": "77610e36",
   "metadata": {},
   "outputs": [],
   "source": [
    "X = np.array([[1, 1], [1, 2], [2, 2], [2, 3]])\n",
    "y = np.array([5, 7, 6, 8])"
   ]
  },
  {
   "cell_type": "markdown",
   "id": "39c1ad8f",
   "metadata": {},
   "source": [
    "- Treinando o Modelo"
   ]
  },
  {
   "cell_type": "code",
   "execution_count": 29,
   "id": "1298e66a",
   "metadata": {},
   "outputs": [],
   "source": [
    "rf = RandomForestRegressor(n_estimators=200).fit(X, y)"
   ]
  },
  {
   "cell_type": "markdown",
   "id": "3f4c5447",
   "metadata": {},
   "source": [
    "- Checando os atributos do modelo já treinado"
   ]
  },
  {
   "cell_type": "code",
   "execution_count": 30,
   "id": "8327f686",
   "metadata": {},
   "outputs": [
    {
     "name": "stdout",
     "output_type": "stream",
     "text": [
      "n_features: 2\n",
      "n_estimators: 200\n"
     ]
    }
   ],
   "source": [
    "print(f'n_features: {rf.n_features_}')\n",
    "print(f'n_estimators: {rf.n_estimators}')"
   ]
  },
  {
   "cell_type": "markdown",
   "id": "711bf0c8",
   "metadata": {},
   "source": [
    "## Salvando o Modelo em um Arquivo"
   ]
  },
  {
   "cell_type": "code",
   "execution_count": 31,
   "id": "5a62b309",
   "metadata": {},
   "outputs": [],
   "source": [
    "with open('modelo-treinado.pkl', 'wb') as file:\n",
    "    pickle.dump(rf, file)"
   ]
  },
  {
   "cell_type": "markdown",
   "id": "6930fc04",
   "metadata": {},
   "source": [
    "## Lendo o Modelo Salvo"
   ]
  },
  {
   "cell_type": "code",
   "execution_count": 32,
   "id": "e04d4637",
   "metadata": {},
   "outputs": [],
   "source": [
    "with open('modelo-treinado.pkl', 'rb') as f:\n",
    "     modelo_salvo = pickle.load(f)"
   ]
  },
  {
   "cell_type": "markdown",
   "id": "8bbfaaea",
   "metadata": {},
   "source": [
    "- Checando os atributos do modelo"
   ]
  },
  {
   "cell_type": "code",
   "execution_count": 36,
   "id": "81b8788a",
   "metadata": {},
   "outputs": [
    {
     "name": "stdout",
     "output_type": "stream",
     "text": [
      "n_features: 2\n",
      "n_estimators: 200\n"
     ]
    }
   ],
   "source": [
    "print(f'n_features: {modelo_salvo.n_features_}')\n",
    "print(f'n_estimators: {modelo_salvo.n_estimators}')"
   ]
  },
  {
   "cell_type": "code",
   "execution_count": null,
   "id": "4e376d20",
   "metadata": {},
   "outputs": [],
   "source": []
  }
 ],
 "metadata": {
  "kernelspec": {
   "display_name": "Python 3",
   "language": "python",
   "name": "python3"
  },
  "language_info": {
   "codemirror_mode": {
    "name": "ipython",
    "version": 3
   },
   "file_extension": ".py",
   "mimetype": "text/x-python",
   "name": "python",
   "nbconvert_exporter": "python",
   "pygments_lexer": "ipython3",
   "version": "3.8.10"
  }
 },
 "nbformat": 4,
 "nbformat_minor": 5
}
