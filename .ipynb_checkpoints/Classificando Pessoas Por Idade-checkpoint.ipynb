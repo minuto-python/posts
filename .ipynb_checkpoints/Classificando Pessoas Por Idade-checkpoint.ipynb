{
 "cells": [
  {
   "cell_type": "markdown",
   "id": "5c3390be",
   "metadata": {},
   "source": [
    "Escreva um algoritmo recebe a idade de uma pessoa, determine sua classificação baseando na seguinte tabela:\n",
    "\n",
    "- idade igual ou superior a 18 anos - **maior de idade**.\n",
    "- idade inferior a 18 anos - **menor de idade**.\n",
    "- idade igual ou superior a 65 anos - **pessoa idosa**.\n"
   ]
  },
  {
   "cell_type": "code",
   "execution_count": 15,
   "id": "dd3f3f1d",
   "metadata": {},
   "outputs": [
    {
     "name": "stdout",
     "output_type": "stream",
     "text": [
      "Digite sua idade: 70\n",
      "Pessoa idosa!\n"
     ]
    }
   ],
   "source": [
    "idade = int(input('Digite sua idade: '))\n",
    "\n",
    "if idade < 18:\n",
    "    print('Menor de idade!')\n",
    "    \n",
    "elif idade >= 18 and idade < 65:\n",
    "    print('Maior de idade!')\n",
    "\n",
    "else:\n",
    "    print('Pessoa idosa!')"
   ]
  },
  {
   "cell_type": "code",
   "execution_count": null,
   "id": "672113d6",
   "metadata": {},
   "outputs": [],
   "source": []
  }
 ],
 "metadata": {
  "kernelspec": {
   "display_name": "Python 3",
   "language": "python",
   "name": "python3"
  },
  "language_info": {
   "codemirror_mode": {
    "name": "ipython",
    "version": 3
   },
   "file_extension": ".py",
   "mimetype": "text/x-python",
   "name": "python",
   "nbconvert_exporter": "python",
   "pygments_lexer": "ipython3",
   "version": "3.8.5"
  }
 },
 "nbformat": 4,
 "nbformat_minor": 5
}
