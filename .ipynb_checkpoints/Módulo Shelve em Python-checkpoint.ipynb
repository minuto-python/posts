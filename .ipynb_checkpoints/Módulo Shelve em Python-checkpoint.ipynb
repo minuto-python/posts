{
 "cells": [
  {
   "cell_type": "code",
   "execution_count": 1,
   "id": "c6850fd2",
   "metadata": {},
   "outputs": [],
   "source": [
    "import shelve"
   ]
  },
  {
   "cell_type": "markdown",
   "id": "5ba90e18",
   "metadata": {},
   "source": [
    "### Armazenando Dados"
   ]
  },
  {
   "cell_type": "code",
   "execution_count": 2,
   "id": "2b77c383",
   "metadata": {},
   "outputs": [],
   "source": [
    "with shelve.open('/tmp/py.db') as db:\n",
    "    db[\"nome\"] = [\"joão\", \"ana\"]\n",
    "    db[\"idade\"] = [28, 30]"
   ]
  },
  {
   "cell_type": "markdown",
   "id": "dd5eeaf4",
   "metadata": {},
   "source": [
    "### Buscando Dados"
   ]
  },
  {
   "cell_type": "code",
   "execution_count": 3,
   "id": "bf45e3db",
   "metadata": {},
   "outputs": [
    {
     "name": "stdout",
     "output_type": "stream",
     "text": [
      "Nomes: ['joão', 'ana']\n",
      "Idades: [28, 30]\n"
     ]
    }
   ],
   "source": [
    "with shelve.open('/tmp/py.db') as db:\n",
    "    print(\"Nomes:\", db[\"nome\"])\n",
    "    print(\"Idades:\", db[\"idade\"])"
   ]
  },
  {
   "cell_type": "code",
   "execution_count": null,
   "id": "755dd25f",
   "metadata": {},
   "outputs": [],
   "source": []
  }
 ],
 "metadata": {
  "kernelspec": {
   "display_name": "Python 3 (ipykernel)",
   "language": "python",
   "name": "python3"
  },
  "language_info": {
   "codemirror_mode": {
    "name": "ipython",
    "version": 3
   },
   "file_extension": ".py",
   "mimetype": "text/x-python",
   "name": "python",
   "nbconvert_exporter": "python",
   "pygments_lexer": "ipython3",
   "version": "3.8.10"
  }
 },
 "nbformat": 4,
 "nbformat_minor": 5
}
