{
 "cells": [
  {
   "cell_type": "code",
   "execution_count": 22,
   "id": "fdefeb0c",
   "metadata": {},
   "outputs": [
    {
     "name": "stdout",
     "output_type": "stream",
     "text": [
      "Data e Hora atual: \"23/04/2021 08:42\"\n"
     ]
    }
   ],
   "source": [
    "from datetime import datetime\n",
    "\n",
    "data_hora_atual = datetime.now() # Objeto com data e hora atual\n",
    "data_hora_atual_frmt = data_hora_atual.strftime('%d/%m/%Y %H:%M') # Formatando\n",
    "\n",
    "print(f'Data e Hora atual: \"{data_hora_atual_frmt}\"')"
   ]
  },
  {
   "cell_type": "code",
   "execution_count": 27,
   "id": "a31d7bff",
   "metadata": {},
   "outputs": [
    {
     "name": "stdout",
     "output_type": "stream",
     "text": [
      "%d (dia): 23\n",
      "%m (mês): 04\n",
      "%Y (ano): 2021\n",
      "%H (hora): 08\n",
      "%M (minuto): 59\n"
     ]
    }
   ],
   "source": [
    "from datetime import datetime\n",
    "data_hora_atual = datetime.now()\n",
    "\n",
    "print('%d (dia):', data_hora_atual.strftime('%d'))\n",
    "print('%m (mês):', data_hora_atual.strftime('%m'))\n",
    "print('%Y (ano):', data_hora_atual.strftime('%Y'))\n",
    "print('%H (hora):', data_hora_atual.strftime('%H'))\n",
    "print('%M (minuto):', data_hora_atual.strftime('%M'))"
   ]
  },
  {
   "cell_type": "code",
   "execution_count": null,
   "id": "b6281f7f",
   "metadata": {},
   "outputs": [],
   "source": []
  }
 ],
 "metadata": {
  "kernelspec": {
   "display_name": "Python 3",
   "language": "python",
   "name": "python3"
  },
  "language_info": {
   "codemirror_mode": {
    "name": "ipython",
    "version": 3
   },
   "file_extension": ".py",
   "mimetype": "text/x-python",
   "name": "python",
   "nbconvert_exporter": "python",
   "pygments_lexer": "ipython3",
   "version": "3.8.5"
  }
 },
 "nbformat": 4,
 "nbformat_minor": 5
}
