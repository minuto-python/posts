{
 "cells": [
  {
   "cell_type": "code",
   "execution_count": 7,
   "id": "07f81cd0",
   "metadata": {},
   "outputs": [
    {
     "name": "stdout",
     "output_type": "stream",
     "text": [
      "Tipo de \"v1\": <class 'int'>\n"
     ]
    }
   ],
   "source": [
    "v1 = 10\n",
    "\n",
    "print('Tipo de \"v1\":', type(v1))"
   ]
  },
  {
   "cell_type": "code",
   "execution_count": 8,
   "id": "da9bc202",
   "metadata": {},
   "outputs": [
    {
     "name": "stdout",
     "output_type": "stream",
     "text": [
      "Tipo de \"vs\": <class 'str'>\n",
      "Tipo de \"vi\": <class 'int'>\n",
      "Tipo de \"vf\": <class 'float'>\n",
      "Tipo de \"vb\": <class 'bool'>\n"
     ]
    }
   ],
   "source": [
    "vs = 'texto'\n",
    "vi = 1\n",
    "vf = 0.5\n",
    "vb = True\n",
    "\n",
    "print('Tipo de \"vs\":', type(vs))\n",
    "print('Tipo de \"vi\":', type(vi))\n",
    "print('Tipo de \"vf\":', type(vf))\n",
    "print('Tipo de \"vb\":', type(vb))"
   ]
  },
  {
   "cell_type": "code",
   "execution_count": null,
   "id": "da5e80ae",
   "metadata": {},
   "outputs": [],
   "source": []
  }
 ],
 "metadata": {
  "kernelspec": {
   "display_name": "Python 3",
   "language": "python",
   "name": "python3"
  },
  "language_info": {
   "codemirror_mode": {
    "name": "ipython",
    "version": 3
   },
   "file_extension": ".py",
   "mimetype": "text/x-python",
   "name": "python",
   "nbconvert_exporter": "python",
   "pygments_lexer": "ipython3",
   "version": "3.8.5"
  }
 },
 "nbformat": 4,
 "nbformat_minor": 5
}
