{
 "cells": [
  {
   "cell_type": "code",
   "execution_count": 2,
   "id": "1bde8530",
   "metadata": {},
   "outputs": [
    {
     "data": {
      "image/png": "[encoded data removed]",
      "text/plain": [
       "<Figure size 432x288 with 1 Axes>"
      ]
     },
     "metadata": {
      "needs_background": "light"
     },
     "output_type": "display_data"
    }
   ],
   "source": [
    "import matplotlib.pyplot as plt\n",
    "\n",
    "dados = [\n",
    "    19, 19, 20, 21, 35, 36, 37, 18, 49, 50, 79, 22, 23,\n",
    "    4, 5, 6, 77, 8, 9, 10, 31, 32, 33, 34, 35, 36, 37,\n",
    "    18, 49, 50, 100\n",
    "]\n",
    "plt.hist(dados, bins=5)\n",
    "\n",
    "plt.grid()\n",
    "plt.title('Histograma')\n",
    "\n",
    "plt.show()"
   ]
  }
 ],
 "metadata": {
  "kernelspec": {
   "display_name": "Python 3 (ipykernel)",
   "language": "python",
   "name": "python3"
  },
  "language_info": {
   "codemirror_mode": {
    "name": "ipython",
    "version": 3
   },
   "file_extension": ".py",
   "mimetype": "text/x-python",
   "name": "python",
   "nbconvert_exporter": "python",
   "pygments_lexer": "ipython3",
   "version": "3.8.10"
  }
 },
 "nbformat": 4,
 "nbformat_minor": 5
}
