{
 "cells": [
  {
   "cell_type": "markdown",
   "id": "34af51fd",
   "metadata": {},
   "source": [
    "## Criando uma Lista"
   ]
  },
  {
   "cell_type": "code",
   "execution_count": 1,
   "id": "f68e9b6d",
   "metadata": {},
   "outputs": [
    {
     "name": "stdout",
     "output_type": "stream",
     "text": [
      "[0, 1, 2, 3, 4]\n"
     ]
    }
   ],
   "source": [
    "result_lst = []\n",
    "for i in range(5):\n",
    "    result_lst.append(i)\n",
    "\n",
    "print(result_lst)"
   ]
  },
  {
   "cell_type": "markdown",
   "id": "4e58e57f",
   "metadata": {},
   "source": [
    "## Criando uma Lista usando List Comprehension"
   ]
  },
  {
   "cell_type": "code",
   "execution_count": 2,
   "id": "f5137a69",
   "metadata": {},
   "outputs": [
    {
     "name": "stdout",
     "output_type": "stream",
     "text": [
      "[0, 1, 2, 3, 4]\n"
     ]
    }
   ],
   "source": [
    "result_lst = [i for i in range(5)]\n",
    "\n",
    "print(result_lst)"
   ]
  },
  {
   "cell_type": "markdown",
   "id": "cddd3138",
   "metadata": {},
   "source": [
    "## Criando uma Lista (Com Condicionais)"
   ]
  },
  {
   "cell_type": "code",
   "execution_count": 3,
   "id": "f675d9ae",
   "metadata": {},
   "outputs": [
    {
     "name": "stdout",
     "output_type": "stream",
     "text": [
      "['x', 2, 'x', 4, 'x', 6]\n"
     ]
    }
   ],
   "source": [
    "result_lst = []\n",
    "for i in range(1, 7):\n",
    "    if i % 2 == 0:\n",
    "        result_lst.append(i)\n",
    "    else:\n",
    "        result_lst.append('x')\n",
    "\n",
    "print(result_lst)"
   ]
  },
  {
   "cell_type": "markdown",
   "id": "3fdb426e",
   "metadata": {},
   "source": [
    "## Criando uma Lista (Com Condicionais) usando List Comprehension"
   ]
  },
  {
   "cell_type": "code",
   "execution_count": 5,
   "id": "386e86bd",
   "metadata": {},
   "outputs": [
    {
     "name": "stdout",
     "output_type": "stream",
     "text": [
      "['x', 2, 'x', 4, 'x', 6]\n"
     ]
    }
   ],
   "source": [
    "result_lst = [i if i % 2 == 0 else 'x' for i in range(1, 7)]\n",
    "\n",
    "print(result_lst)"
   ]
  },
  {
   "cell_type": "code",
   "execution_count": null,
   "id": "4b4cdcff",
   "metadata": {},
   "outputs": [],
   "source": []
  },
  {
   "cell_type": "code",
   "execution_count": null,
   "id": "9d04a03b",
   "metadata": {},
   "outputs": [],
   "source": []
  },
  {
   "cell_type": "code",
   "execution_count": null,
   "id": "c967ff94",
   "metadata": {},
   "outputs": [],
   "source": []
  },
  {
   "cell_type": "code",
   "execution_count": null,
   "id": "ddddd143",
   "metadata": {},
   "outputs": [],
   "source": []
  }
 ],
 "metadata": {
  "kernelspec": {
   "display_name": "Python 3",
   "language": "python",
   "name": "python3"
  },
  "language_info": {
   "codemirror_mode": {
    "name": "ipython",
    "version": 3
   },
   "file_extension": ".py",
   "mimetype": "text/x-python",
   "name": "python",
   "nbconvert_exporter": "python",
   "pygments_lexer": "ipython3",
   "version": "3.8.10"
  }
 },
 "nbformat": 4,
 "nbformat_minor": 5
}
