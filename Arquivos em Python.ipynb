{
 "cells": [
  {
   "cell_type": "code",
   "execution_count": 20,
   "id": "c5e33f0e",
   "metadata": {},
   "outputs": [],
   "source": [
    "f = open('arq1.txt', 'w')   # Criando arquivo em modo de escrita\n",
    "f.write('Olá Mundo!!')      # Escrevendo um conteúdo no arquivo\n",
    "f.close()                   # Fechando o arquivo"
   ]
  },
  {
   "cell_type": "code",
   "execution_count": 21,
   "id": "c80e7b66",
   "metadata": {},
   "outputs": [
    {
     "name": "stdout",
     "output_type": "stream",
     "text": [
      "Conteúdo: Olá Mundo!!\n",
      "\n",
      "Este arquivo possui 11 caracteres.\n"
     ]
    }
   ],
   "source": [
    "f = open('arq1.txt', 'r')  # Abrindo arquivo em modo de leitura (modo default)\n",
    "conteudo = f.read()        # Lendo conteudo do arquivo\n",
    "f.close()                  # Fechando arquivo\n",
    "\n",
    "print('Conteúdo:', conteudo)\n",
    "print(f'\\nEste arquivo possui {len(conteudo)} caracteres.')"
   ]
  },
  {
   "cell_type": "code",
   "execution_count": null,
   "id": "b0916826",
   "metadata": {},
   "outputs": [],
   "source": []
  }
 ],
 "metadata": {
  "kernelspec": {
   "display_name": "Python 3",
   "language": "python",
   "name": "python3"
  },
  "language_info": {
   "codemirror_mode": {
    "name": "ipython",
    "version": 3
   },
   "file_extension": ".py",
   "mimetype": "text/x-python",
   "name": "python",
   "nbconvert_exporter": "python",
   "pygments_lexer": "ipython3",
   "version": "3.8.5"
  }
 },
 "nbformat": 4,
 "nbformat_minor": 5
}
