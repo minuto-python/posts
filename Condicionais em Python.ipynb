{
 "cells": [
  {
   "cell_type": "code",
   "execution_count": 7,
   "id": "179ef5f6",
   "metadata": {},
   "outputs": [
    {
     "name": "stdout",
     "output_type": "stream",
     "text": [
      "Verdadeiro: \"n\" é 10\n"
     ]
    }
   ],
   "source": [
    "n = 10\n",
    "if n == 10:\n",
    "    print('Verdadeiro: \"n\" é 10')\n",
    "else:\n",
    "    print('Falso: \"n\" não é 10')"
   ]
  },
  {
   "cell_type": "code",
   "execution_count": 10,
   "id": "192c4b3e",
   "metadata": {},
   "outputs": [
    {
     "name": "stdout",
     "output_type": "stream",
     "text": [
      "Falso: \"v2\" é diferente de \"val2\"\n"
     ]
    }
   ],
   "source": [
    "v2 = 'abc'\n",
    "if v2 == 'val2':\n",
    "    print('Verdadeiro: \"v2\" = \"val2\" ')\n",
    "else:\n",
    "    print('Falso: \"v2\" é diferente de \"val2\"')"
   ]
  },
  {
   "cell_type": "code",
   "execution_count": null,
   "id": "f1146e7f",
   "metadata": {},
   "outputs": [],
   "source": []
  }
 ],
 "metadata": {
  "kernelspec": {
   "display_name": "Python 3",
   "language": "python",
   "name": "python3"
  },
  "language_info": {
   "codemirror_mode": {
    "name": "ipython",
    "version": 3
   },
   "file_extension": ".py",
   "mimetype": "text/x-python",
   "name": "python",
   "nbconvert_exporter": "python",
   "pygments_lexer": "ipython3",
   "version": "3.8.5"
  }
 },
 "nbformat": 4,
 "nbformat_minor": 5
}
