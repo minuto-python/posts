{
 "cells": [
  {
   "cell_type": "code",
   "execution_count": 1,
   "id": "featured-arnold",
   "metadata": {},
   "outputs": [],
   "source": [
    "dct = {'chave1': 10}"
   ]
  },
  {
   "cell_type": "code",
   "execution_count": 6,
   "id": "automotive-voluntary",
   "metadata": {},
   "outputs": [
    {
     "name": "stdout",
     "output_type": "stream",
     "text": [
      "Items comprados: ['Laranja', 'Maçã']\n",
      "Preços dos items: (4, 8)\n",
      "Local de compra: Mecadinho das Frutas\n"
     ]
    }
   ],
   "source": [
    "compras_dct = {\n",
    "    'frutas': ['Laranja', 'Maçã'],\n",
    "    'precos': (4, 8),\n",
    "    'mercado': {\n",
    "        'nome': 'Mecadinho das Frutas'\n",
    "    }\n",
    "}\n",
    "print('Items comprados:', compras_dct['frutas'])\n",
    "print('Preços dos items:', compras_dct['precos'])\n",
    "print('Local de compra:', compras_dct['mercado']['nome'])"
   ]
  },
  {
   "cell_type": "code",
   "execution_count": null,
   "id": "excess-horizontal",
   "metadata": {},
   "outputs": [],
   "source": []
  },
  {
   "cell_type": "code",
   "execution_count": null,
   "id": "honest-secretariat",
   "metadata": {},
   "outputs": [],
   "source": []
  }
 ],
 "metadata": {
  "kernelspec": {
   "display_name": "Python 3",
   "language": "python",
   "name": "python3"
  },
  "language_info": {
   "codemirror_mode": {
    "name": "ipython",
    "version": 3
   },
   "file_extension": ".py",
   "mimetype": "text/x-python",
   "name": "python",
   "nbconvert_exporter": "python",
   "pygments_lexer": "ipython3",
   "version": "3.8.5"
  }
 },
 "nbformat": 4,
 "nbformat_minor": 5
}
