{
 "cells": [
  {
   "cell_type": "code",
   "execution_count": 7,
   "id": "signal-property",
   "metadata": {},
   "outputs": [
    {
     "name": "stdout",
     "output_type": "stream",
     "text": [
      "Aguia está pronta\n",
      "Aguia \"Real\" está voando\n",
      "\n",
      "Raça da águia: \"Real\".\n"
     ]
    }
   ],
   "source": [
    "class Aguia: # Definindo uma nova classe\n",
    "\n",
    "    def __init__(self, raca): # Criando método de inicialização da classe\n",
    "        self.raca = raca\n",
    "        print('Aguia está pronta')\n",
    "    \n",
    "    def voar(self):\n",
    "        print(f'Aguia \"{self.raca}\" está voando')\n",
    "\n",
    "aguia_001 = Aguia('Real') # Instanciando a classe Aguia e criando um novo objeto\n",
    "aguia_001.voar() # Chamando um método do objeto\n",
    "print(f'\\nRaça da águia: \"{aguia_001.raca}\".') # Chamando um atributo"
   ]
  }
 ],
 "metadata": {
  "kernelspec": {
   "display_name": "Python 3",
   "language": "python",
   "name": "python3"
  },
  "language_info": {
   "codemirror_mode": {
    "name": "ipython",
    "version": 3
   },
   "file_extension": ".py",
   "mimetype": "text/x-python",
   "name": "python",
   "nbconvert_exporter": "python",
   "pygments_lexer": "ipython3",
   "version": "3.8.5"
  }
 },
 "nbformat": 4,
 "nbformat_minor": 5
}
