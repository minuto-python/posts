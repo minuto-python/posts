{
 "cells": [
  {
   "cell_type": "code",
   "execution_count": 1,
   "id": "d75237ad",
   "metadata": {},
   "outputs": [],
   "source": [
    "lst = [10, 20, 30, 40]"
   ]
  },
  {
   "cell_type": "code",
   "execution_count": 2,
   "id": "7ce07ac7",
   "metadata": {},
   "outputs": [],
   "source": [
    "# Criando a função que será aplicada \n",
    "# a cada item da lista\n",
    "\n",
    "def calc(item):\n",
    "    result = item * 2\n",
    "    print(f\"({item}) x 2 = {result}\")\n",
    "    return result"
   ]
  },
  {
   "cell_type": "code",
   "execution_count": 3,
   "id": "0cca6c96",
   "metadata": {},
   "outputs": [
    {
     "name": "stdout",
     "output_type": "stream",
     "text": [
      "(10) x 2 = 20\n",
      "(20) x 2 = 40\n",
      "(30) x 2 = 60\n",
      "(40) x 2 = 80\n"
     ]
    },
    {
     "data": {
      "text/plain": [
       "[20, 40, 60, 80]"
      ]
     },
     "execution_count": 3,
     "metadata": {},
     "output_type": "execute_result"
    }
   ],
   "source": [
    "# Aplicando a função map\n",
    "\n",
    "list(map(calc, lst))"
   ]
  }
 ],
 "metadata": {
  "kernelspec": {
   "display_name": "Python 3 (ipykernel)",
   "language": "python",
   "name": "python3"
  },
  "language_info": {
   "codemirror_mode": {
    "name": "ipython",
    "version": 3
   },
   "file_extension": ".py",
   "mimetype": "text/x-python",
   "name": "python",
   "nbconvert_exporter": "python",
   "pygments_lexer": "ipython3",
   "version": "3.8.10"
  }
 },
 "nbformat": 4,
 "nbformat_minor": 5
}
