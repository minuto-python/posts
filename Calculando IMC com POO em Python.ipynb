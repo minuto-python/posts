{
 "cells": [
  {
   "cell_type": "markdown",
   "id": "77efc60a",
   "metadata": {},
   "source": [
    "Crie uma classe chamada Pessoa que possui 3 atributos: \"nome\", \"peso\" e \"altura\". Estes atributos devem receber seus valores na instanciação da classe. Esta classe deve possuir um método chamado \"imc\" que retorna o valor do IMC (índice e massa corpórea) desta pessoa.\n",
    "\n",
    "Por fim, peça que o usuário digite o nome, peso e altura, crie um objeto pessoa  e exiba a seguinte mensagem:\n",
    "\n",
    "\"O IMC de 'nome' é 'imc'\""
   ]
  },
  {
   "cell_type": "code",
   "execution_count": 5,
   "id": "e34090de",
   "metadata": {},
   "outputs": [
    {
     "name": "stdout",
     "output_type": "stream",
     "text": [
      "Nome: Sarah\n",
      "Altura: 1.62\n",
      "Peso (kg): 60\n",
      "\n",
      "O IMC de Sarah é 22.86.\n"
     ]
    }
   ],
   "source": [
    "class Pessoa:\n",
    "    \n",
    "    def __init__(self, nome, peso, altura):\n",
    "        self.nome = nome\n",
    "        self.peso = peso\n",
    "        self.altura = altura\n",
    "    \n",
    "    def imc(self):\n",
    "        imc = self.peso / (self.altura ** 2)\n",
    "        return round(imc, 2)\n",
    "\n",
    "nome = input(f'Nome: ')\n",
    "altura = float(input(f'Altura: '))\n",
    "peso = float(input(f'Peso (kg): '))\n",
    "\n",
    "pessoa = Pessoa(nome, peso, altura)\n",
    "\n",
    "print(f'\\nO IMC de {pessoa.nome} é {pessoa.imc()}.')"
   ]
  }
 ],
 "metadata": {
  "kernelspec": {
   "display_name": "Python 3",
   "language": "python",
   "name": "python3"
  },
  "language_info": {
   "codemirror_mode": {
    "name": "ipython",
    "version": 3
   },
   "file_extension": ".py",
   "mimetype": "text/x-python",
   "name": "python",
   "nbconvert_exporter": "python",
   "pygments_lexer": "ipython3",
   "version": "3.8.5"
  }
 },
 "nbformat": 4,
 "nbformat_minor": 5
}
