{
 "cells": [
  {
   "cell_type": "code",
   "execution_count": 4,
   "id": "5bde778a",
   "metadata": {},
   "outputs": [
    {
     "name": "stdout",
     "output_type": "stream",
     "text": [
      "Olá Mundo\n"
     ]
    }
   ],
   "source": [
    "s1 = 'Olá '\n",
    "s2 = 'Mundo'\n",
    "nova = s1 + s2 # Concatenando Strings\n",
    "\n",
    "print(nova)"
   ]
  },
  {
   "cell_type": "code",
   "execution_count": 6,
   "id": "092da546",
   "metadata": {},
   "outputs": [
    {
     "name": "stdout",
     "output_type": "stream",
     "text": [
      "Olá \"Mundo\". Print feito em Python.\n"
     ]
    }
   ],
   "source": [
    "txt = 'Mundo'\n",
    "interpolado = 'Olá \"{}\". Print feito em Python.'.format(txt) \n",
    "\n",
    "print(interpolado)"
   ]
  },
  {
   "cell_type": "code",
   "execution_count": 8,
   "id": "cd675519",
   "metadata": {},
   "outputs": [
    {
     "name": "stdout",
     "output_type": "stream",
     "text": [
      "Olá Mundo. Print com F-string.\n"
     ]
    }
   ],
   "source": [
    "txt = 'Mundo'\n",
    "interpolado = f'Olá {txt}. Print com F-string.' \n",
    "\n",
    "print(interpolado)"
   ]
  },
  {
   "cell_type": "code",
   "execution_count": null,
   "id": "0d54952f",
   "metadata": {},
   "outputs": [],
   "source": []
  }
 ],
 "metadata": {
  "kernelspec": {
   "display_name": "Python 3",
   "language": "python",
   "name": "python3"
  },
  "language_info": {
   "codemirror_mode": {
    "name": "ipython",
    "version": 3
   },
   "file_extension": ".py",
   "mimetype": "text/x-python",
   "name": "python",
   "nbconvert_exporter": "python",
   "pygments_lexer": "ipython3",
   "version": "3.8.5"
  }
 },
 "nbformat": 4,
 "nbformat_minor": 5
}
