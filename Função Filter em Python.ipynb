{
 "cells": [
  {
   "cell_type": "code",
   "execution_count": 1,
   "id": "edd24811",
   "metadata": {},
   "outputs": [],
   "source": [
    "lst = [1, 2, 3, 4, 5, 6, 7, 8, 9, 10]"
   ]
  },
  {
   "cell_type": "code",
   "execution_count": 2,
   "id": "2e82c17d",
   "metadata": {},
   "outputs": [],
   "source": [
    "# Definindo a função de filtragem\n",
    "\n",
    "def par(item):\n",
    "    return item % 2 == 0"
   ]
  },
  {
   "cell_type": "code",
   "execution_count": 3,
   "id": "c60cdec1",
   "metadata": {},
   "outputs": [
    {
     "data": {
      "text/plain": [
       "[2, 4, 6, 8, 10]"
      ]
     },
     "execution_count": 3,
     "metadata": {},
     "output_type": "execute_result"
    }
   ],
   "source": [
    "# Aplicando o filter\n",
    "\n",
    "list(filter(par, lst))"
   ]
  },
  {
   "cell_type": "code",
   "execution_count": 6,
   "id": "77035c7a",
   "metadata": {},
   "outputs": [
    {
     "data": {
      "text/plain": [
       "[2, 4, 6, 8, 10]"
      ]
     },
     "execution_count": 6,
     "metadata": {},
     "output_type": "execute_result"
    }
   ],
   "source": [
    "# Sem o filter\n",
    "\n",
    "new_lst = []\n",
    "\n",
    "for item in lst:\n",
    "    if par(item):\n",
    "        new_lst.append(item)\n",
    "\n",
    "new_lst"
   ]
  },
  {
   "cell_type": "code",
   "execution_count": 5,
   "id": "0ea0d426",
   "metadata": {},
   "outputs": [
    {
     "data": {
      "text/plain": [
       "[2, 4, 6, 8, 10]"
      ]
     },
     "execution_count": 5,
     "metadata": {},
     "output_type": "execute_result"
    }
   ],
   "source": [
    "# Sem filter e usando list comprehension\n",
    "\n",
    "[item for item in lst if par(item)]"
   ]
  },
  {
   "cell_type": "code",
   "execution_count": null,
   "id": "54a04d7b",
   "metadata": {},
   "outputs": [],
   "source": []
  }
 ],
 "metadata": {
  "kernelspec": {
   "display_name": "Python 3 (ipykernel)",
   "language": "python",
   "name": "python3"
  },
  "language_info": {
   "codemirror_mode": {
    "name": "ipython",
    "version": 3
   },
   "file_extension": ".py",
   "mimetype": "text/x-python",
   "name": "python",
   "nbconvert_exporter": "python",
   "pygments_lexer": "ipython3",
   "version": "3.8.10"
  }
 },
 "nbformat": 4,
 "nbformat_minor": 5
}
