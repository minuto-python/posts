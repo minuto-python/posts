{
 "cells": [
  {
   "cell_type": "code",
   "execution_count": 8,
   "id": "beginning-state",
   "metadata": {},
   "outputs": [
    {
     "name": "stdout",
     "output_type": "stream",
     "text": [
      "10\n"
     ]
    }
   ],
   "source": [
    "v1 = 10 # Criando uma variavel chamada \"v1\"\n",
    "\n",
    "print(v1) # Imprimindo o valor da variavel \"v1\""
   ]
  },
  {
   "cell_type": "code",
   "execution_count": 5,
   "id": "protective-dancing",
   "metadata": {},
   "outputs": [
    {
     "name": "stdout",
     "output_type": "stream",
     "text": [
      "a1: 12\n",
      "a2: teste\n",
      "a3: 0.5\n",
      "a4: True\n"
     ]
    }
   ],
   "source": [
    "# Criando variaveis\n",
    "a1 = 12\n",
    "a2 = 'teste'\n",
    "a3 = 0.5\n",
    "a4 = True\n",
    "\n",
    "# Chamando variaveis\n",
    "print('a1:', a1)\n",
    "print('a2:', a2)\n",
    "print('a3:', a3)\n",
    "print('a4:', a4)"
   ]
  },
  {
   "cell_type": "code",
   "execution_count": null,
   "id": "average-netscape",
   "metadata": {},
   "outputs": [],
   "source": []
  }
 ],
 "metadata": {
  "kernelspec": {
   "display_name": "Python 3",
   "language": "python",
   "name": "python3"
  },
  "language_info": {
   "codemirror_mode": {
    "name": "ipython",
    "version": 3
   },
   "file_extension": ".py",
   "mimetype": "text/x-python",
   "name": "python",
   "nbconvert_exporter": "python",
   "pygments_lexer": "ipython3",
   "version": "3.8.5"
  }
 },
 "nbformat": 4,
 "nbformat_minor": 5
}
