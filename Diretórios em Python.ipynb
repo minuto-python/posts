{
 "cells": [
  {
   "cell_type": "code",
   "execution_count": 29,
   "id": "a4b956e7",
   "metadata": {},
   "outputs": [],
   "source": [
    "import os\n",
    "import shutil\n",
    "\n",
    "drt_path = 'drt_001' # Definindo o caminho do diretorio\n",
    "\n",
    "os.mkdir(drt_path)   # Criando um diretorio."
   ]
  },
  {
   "cell_type": "code",
   "execution_count": 30,
   "id": "f7b218e3",
   "metadata": {},
   "outputs": [],
   "source": [
    "os.rmdir(drt_path) # Remove um diretorio vazio"
   ]
  },
  {
   "cell_type": "code",
   "execution_count": 28,
   "id": "56231283",
   "metadata": {},
   "outputs": [],
   "source": [
    "shutil.rmtree(drt_path) # Remove um diretorio e todos os arquivos dentro"
   ]
  },
  {
   "cell_type": "code",
   "execution_count": null,
   "id": "50a86d9e",
   "metadata": {},
   "outputs": [],
   "source": []
  }
 ],
 "metadata": {
  "kernelspec": {
   "display_name": "Python 3",
   "language": "python",
   "name": "python3"
  },
  "language_info": {
   "codemirror_mode": {
    "name": "ipython",
    "version": 3
   },
   "file_extension": ".py",
   "mimetype": "text/x-python",
   "name": "python",
   "nbconvert_exporter": "python",
   "pygments_lexer": "ipython3",
   "version": "3.8.5"
  }
 },
 "nbformat": 4,
 "nbformat_minor": 5
}
