{
 "cells": [
  {
   "cell_type": "code",
   "execution_count": 4,
   "id": "c36d03ab",
   "metadata": {},
   "outputs": [
    {
     "name": "stdout",
     "output_type": "stream",
     "text": [
      "Digite o dia da Semana: Segunda-Feira\n",
      "\n",
      "Hoje é Segunda-Feira\n"
     ]
    }
   ],
   "source": [
    "dia = input(\"Digite o dia da Semana: \")\n",
    "\n",
    "print(\"\\nHoje é\", dia)"
   ]
  },
  {
   "cell_type": "code",
   "execution_count": 14,
   "id": "8c3a99c6",
   "metadata": {},
   "outputs": [
    {
     "name": "stdout",
     "output_type": "stream",
     "text": [
      "Digite um número: 10\n",
      "\n",
      "- Tipo do Número Digitado <class 'str'>\n",
      "\n",
      "- Tipo do Número Convertido <class 'int'>\n"
     ]
    }
   ],
   "source": [
    "num = input(\"Digite um número: \")\n",
    "\n",
    "print('\\n- Tipo do Número Digitado', type(num))\n",
    "\n",
    "num_convertido = int(num)\n",
    "\n",
    "print('\\n- Tipo do Número Convertido', type(num_convertido))"
   ]
  },
  {
   "cell_type": "code",
   "execution_count": null,
   "id": "d8fd82e3",
   "metadata": {},
   "outputs": [],
   "source": []
  }
 ],
 "metadata": {
  "kernelspec": {
   "display_name": "Python 3",
   "language": "python",
   "name": "python3"
  },
  "language_info": {
   "codemirror_mode": {
    "name": "ipython",
    "version": 3
   },
   "file_extension": ".py",
   "mimetype": "text/x-python",
   "name": "python",
   "nbconvert_exporter": "python",
   "pygments_lexer": "ipython3",
   "version": "3.8.5"
  }
 },
 "nbformat": 4,
 "nbformat_minor": 5
}
